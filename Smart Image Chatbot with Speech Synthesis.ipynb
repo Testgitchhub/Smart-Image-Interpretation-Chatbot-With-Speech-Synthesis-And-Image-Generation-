{
  "nbformat": 4,
  "nbformat_minor": 0,
  "metadata": {
    "colab": {
      "provenance": [],
      "authorship_tag": "ABX9TyMxyjIMkqlIRKP5kaEUTQKS",
      "include_colab_link": true
    },
    "kernelspec": {
      "name": "python3",
      "display_name": "Python 3"
    },
    "language_info": {
      "name": "python"
    }
  },
  "cells": [
    {
      "cell_type": "markdown",
      "metadata": {
        "id": "view-in-github",
        "colab_type": "text"
      },
      "source": [
        "<a href=\"https://colab.research.google.com/github/Testgitchhub/Smart-Image-Interpretation-Chatbot-With-Speech-Synthesis-And-Image-Generation-/blob/main/Smart%20Image%20Chatbot%20with%20Speech%20Synthesis.ipynb\" target=\"_parent\"><img src=\"https://colab.research.google.com/assets/colab-badge.svg\" alt=\"Open In Colab\"/></a>"
      ]
    },
    {
      "cell_type": "code",
      "execution_count": null,
      "metadata": {
        "id": "lJX8bdF46Z6o"
      },
      "outputs": [],
      "source": [
        "# utils.py\n",
        "import os\n",
        "import torch\n",
        "from PIL import Image\n",
        "import pytesseract\n",
        "import language_tool_python\n",
        "from gtts import gTTS\n",
        "from transformers import BlipProcessor, BlipForConditionalGeneration\n",
        "import cohere\n",
        "import uuid"
      ]
    },
    {
      "cell_type": "code",
      "source": [
        "# Load models once\n",
        "device = \"cuda\" if torch.cuda.is_available() else \"cpu\"\n",
        "blip_processor = BlipProcessor.from_pretrained(\"Salesforce/blip-image-captioning-base\")\n",
        "blip_model = BlipForConditionalGeneration.from_pretrained(\"Salesforce/blip-image-captioning-base\").to(device)\n",
        "\n",
        "cohere_api_key = os.getenv(\"COHERE_API_KEY\")\n",
        "co = cohere.Client(cohere_api_key)\n",
        "tool = language_tool_python.LanguageTool('en-US')\n",
        "def generate_caption(image_path):\n",
        "    image = Image.open(image_path).convert(\"RGB\")\n",
        "    inputs = blip_processor(image, return_tensors=\"pt\").to(device)\n",
        "    out = blip_model.generate(**inputs)\n",
        "    caption = blip_processor.decode(out[0], skip_special_tokens=True)\n",
        "    return caption\n",
        "\n",
        "def extract_text_from_image(image_path):\n",
        "    image = Image.open(image_path)\n",
        "    text = pytesseract.image_to_string(image)\n",
        "    return text.strip()\n",
        "\n",
        "def is_grammatically_correct(text):\n",
        "    matches = tool.check(text)\n",
        "    return len(matches) == 0\n",
        "\n",
        "def query_cohere(caption, ocr_text, user_question):\n",
        "    if is_grammatically_correct(ocr_text):\n",
        "        prompt = f\"Image Caption: {caption}\\nExtracted Text: {ocr_text}\\nUser Question: {user_question}\\nAnswer:\"\n",
        "    else:\n",
        "        prompt = f\"Image Caption: {caption}\\nUser Question: {user_question}\\nAnswer:\"\n",
        "    response = co.generate(\n",
        "        model=\"command-xlarge\",\n",
        "        prompt=prompt,\n",
        "        max_tokens=100,\n",
        "        temperature=0.75\n",
        "    )\n",
        "    return response.generations[0].text.strip()\n",
        "\n",
        "def speak_text(text):\n",
        "    filename = f\"audio_{uuid.uuid4().hex}.mp3\"\n",
        "    tts = gTTS(text=text, lang='en', slow=False)\n",
        "    tts.save(filename)\n",
        "    return filename\n"
      ],
      "metadata": {
        "id": "FGI4WCXg6dI3"
      },
      "execution_count": null,
      "outputs": []
    },
    {
      "cell_type": "code",
      "source": [],
      "metadata": {
        "id": "c7JMjfj46vrD"
      },
      "execution_count": null,
      "outputs": []
    }
  ]
}